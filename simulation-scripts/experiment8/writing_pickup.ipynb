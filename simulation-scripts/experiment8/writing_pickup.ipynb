{
 "cells": [
  {
   "cell_type": "code",
   "execution_count": 21,
   "metadata": {},
   "outputs": [],
   "source": [
    "using DifferentialEquations, Statistics"
   ]
  },
  {
   "cell_type": "code",
   "execution_count": 2,
   "metadata": {},
   "outputs": [],
   "source": [
    "struct CRMParams\n",
    "    c::Matrix{Float64}\n",
    "    e::Matrix{Float64}\n",
    "    K::Vector{Float64}\n",
    "    m::Vector{Float64}\n",
    "    S::Int64\n",
    "    M::Int64\n",
    "    CRMParams(c,e,K,m) = size(c,1)==size(m,1) && size(c,2)==size(K,1) && size(c) == size(e) ? new(c,e,K,m,size(m)[1],size(K)[1]) : error(\"parameters wrong dimensions\")\n",
    "end\n",
    "\n",
    "function CRM!(du,u,p,t)\n",
    "    @inbounds λ = @view u[1:p.S]\n",
    "    @inbounds dλ = @view du[1:p.S]\n",
    "    @inbounds R = @view u[end+1-p.M:end]\n",
    "    @inbounds dR = @view du[end+1-p.M:end]\n",
    "    dλ .= λ .* (p.c * R .- p.m)\n",
    "    dR .= R .* (p.K .- R .- p.e' * λ)\n",
    "end\n",
    "\n",
    "M = 200;\n",
    "S = 200;\n",
    "μc = 1e0M;\n",
    "μe = 1e0M;\n",
    "σc = 2e-1sqrt(M);\n",
    "σe = 2e-1sqrt(M);\n",
    "K = 1e0;\n",
    "σK = 1e-1;\n",
    "m = 1e0;\n",
    "σm = 1e-1;"
   ]
  },
  {
   "cell_type": "code",
   "execution_count": 23,
   "metadata": {},
   "outputs": [],
   "source": [
    "# function runCRM(ρ,tmax)\n",
    "#     K0 = K .+ σK*randn(M);\n",
    "#     params = randn(M,S) |> d -> CRMParams(μc/M .+ (σc/sqrt(M)).*d,μe/M .+ (σe/sqrt(M)).*(ρ.*d .+ sqrt(1-ρ^2).*randn(M,S)),K0,m .+ σm*randn(S))\n",
    "#     u0=vcat(ones(S)/S,K0)\n",
    "#     tspan=(0.0,tmax + 0.25);\n",
    "#     prob = ODEProblem(CRM!,u0,tspan,params);\n",
    "#     sol = solve(prob,abstol=1e-15,reltol=1e-15,saveat=(tmax-0.25):0.05:tmax+0.25);\n",
    "#     return sol\n",
    "# end\n",
    "tmax=5000;\n",
    "ρ=0.72;\n",
    "K0 = K .+ σK*randn(M);\n",
    "params = randn(M,S) |> d -> CRMParams(μc/M .+ (σc/sqrt(M)).*d,μe/M .+ (σe/sqrt(M)).*(ρ.*d .+ sqrt(1-ρ^2).*randn(M,S)),K0,m .+ σm*randn(S))\n",
    "u0=vcat(ones(S)/S,K0)\n",
    "tspan=(0.0,tmax + 0.25);\n",
    "prob = ODEProblem(CRM!,u0,tspan,params);\n",
    "solsave = solve(prob,abstol=1e-15,reltol=1e-15,saveat=(tmax-0.25):0.05:tmax+0.25);\n",
    "sol = solve(prob,abstol=1e-15,reltol=1e-15);"
   ]
  },
  {
   "cell_type": "code",
   "execution_count": 24,
   "metadata": {},
   "outputs": [],
   "source": [
    "tmax=5000;\n",
    "ρ=0.72;\n",
    "# K0 = K .+ σK*randn(M);\n",
    "# params = randn(M,S) |> d -> CRMParams(μc/M .+ (σc/sqrt(M)).*d,μe/M .+ (σe/sqrt(M)).*(ρ.*d .+ sqrt(1-ρ^2).*randn(M,S)),K0,m .+ σm*randn(S))\n",
    "u0=sol(tmax);\n",
    "# u0=vcat(ones(S)/S,K0)\n",
    "tspan=(0.0,tmax + 0.25);\n",
    "prob = ODEProblem(CRM!,u0,tspan,params);\n",
    "solsave = solve(prob,abstol=1e-15,reltol=1e-15,saveat=(tmax-0.25):0.05:tmax+0.25);\n",
    "sol = solve(prob,abstol=1e-15,reltol=1e-15);"
   ]
  },
  {
   "cell_type": "code",
   "execution_count": 25,
   "metadata": {},
   "outputs": [],
   "source": [
    "tmaxtotal=2*5000;\n",
    "ρ=0.72;\n",
    "# K0 = K .+ σK*randn(M);\n",
    "# params = randn(M,S) |> d -> CRMParams(μc/M .+ (σc/sqrt(M)).*d,μe/M .+ (σe/sqrt(M)).*(ρ.*d .+ sqrt(1-ρ^2).*randn(M,S)),K0,m .+ σm*randn(S))\n",
    "# u0=sol(tmaxtotal);\n",
    "u0=vcat(ones(S)/S,K0)\n",
    "tspan=(0.0,tmaxtotal + 0.25);\n",
    "prob = ODEProblem(CRM!,u0,tspan,params);\n",
    "solsavetotal = solve(prob,abstol=1e-15,reltol=1e-15,saveat=(tmaxtotal-0.25):0.05:tmaxtotal+0.25);\n",
    "soltotal = solve(prob,abstol=1e-15,reltol=1e-15);"
   ]
  },
  {
   "cell_type": "code",
   "execution_count": 26,
   "metadata": {},
   "outputs": [
    {
     "data": {
      "text/plain": [
       "2.3476018714383932e-33"
      ]
     },
     "execution_count": 26,
     "metadata": {},
     "output_type": "execute_result"
    }
   ],
   "source": [
    "mean(abs2.(sol(tmax) - soltotal(tmaxtotal)))"
   ]
  },
  {
   "cell_type": "code",
   "execution_count": null,
   "metadata": {},
   "outputs": [],
   "source": []
  }
 ],
 "metadata": {
  "kernelspec": {
   "display_name": "Julia 1.8.3",
   "language": "julia",
   "name": "julia-1.8"
  },
  "language_info": {
   "file_extension": ".jl",
   "mimetype": "application/julia",
   "name": "julia",
   "version": "1.8.3"
  },
  "orig_nbformat": 4,
  "vscode": {
   "interpreter": {
    "hash": "b0fa6594d8f4cbf19f97940f81e996739fb7646882a419484c72d19e05852a7e"
   }
  }
 },
 "nbformat": 4,
 "nbformat_minor": 2
}
